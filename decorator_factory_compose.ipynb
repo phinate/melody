{
 "cells": [
  {
   "cell_type": "code",
   "execution_count": 3,
   "metadata": {},
   "outputs": [],
   "source": [
    "import functools\n",
    "import inspect"
   ]
  },
  {
   "cell_type": "code",
   "execution_count": 71,
   "metadata": {},
   "outputs": [],
   "source": [
    "def compose(*workflow):\n",
    "    def dec(loss):\n",
    "        @functools.wraps(loss)\n",
    "        def called(*args,**kwargs): # *args are for grad, **kwargs are the rest\n",
    "            \n",
    "            res = dict([])\n",
    "            \n",
    "            for f in workflow:\n",
    "                sig = inspect.signature(f)\n",
    "                f_args = sig.parameters.keys()\n",
    "                \n",
    "                feed_args = False\n",
    "                feed_kwargs = False\n",
    "                \n",
    "                for arg in f_args:\n",
    "                    if not feed_args or not feed_kwargs:\n",
    "                        if arg in kwargs.keys() and arg not in res.keys():\n",
    "                            feed_kwargs = True\n",
    "                        elif arg not in kwargs.keys() and arg not in res.keys():\n",
    "                            feed_args = True\n",
    "                    else:\n",
    "                        break\n",
    "\n",
    "                if feed_args and feed_kwargs:\n",
    "                    res = f(*args, **res, **kwargs)\n",
    "                elif feed_args and not feed_kwargs:\n",
    "                    res = f(*args, **res)\n",
    "                elif not feed_args and feed_kwargs:\n",
    "                    res = f(**res, **kwargs)\n",
    "                else:\n",
    "                    res = f(**res)\n",
    "                        \n",
    "            return loss(**res)\n",
    "        \n",
    "        return called\n",
    "    \n",
    "    return dec\n",
    "            \n",
    "  "
   ]
  },
  {
   "cell_type": "code",
   "execution_count": 72,
   "metadata": {},
   "outputs": [],
   "source": [
    "import jax\n",
    "import jax.numpy as jnp"
   ]
  },
  {
   "cell_type": "code",
   "execution_count": 83,
   "metadata": {},
   "outputs": [
    {
     "data": {
      "text/plain": [
       "DeviceArray(82.5, dtype=float32)"
      ]
     },
     "execution_count": 83,
     "metadata": {},
     "output_type": "execute_result"
    }
   ],
   "source": [
    "def data_gen(p):\n",
    "    return dict(data = jnp.array([3*p**2,4]))\n",
    "\n",
    "def preprocess(params, data):\n",
    "    s, b = data\n",
    "    return dict(s = s + params, b = b)\n",
    "    \n",
    "@compose(data_gen, preprocess)\n",
    "def loss(s,b):\n",
    "    return s / b\n",
    "\n",
    "jax.grad(loss)(55., params=1) # takes in args/kwargs specified in 'expose'"
   ]
  },
  {
   "cell_type": "markdown",
   "metadata": {},
   "source": [
    "make pipeline object, and do the arg stuff when calling?\n",
    "\n",
    "could use decorator for appending to pipeline?"
   ]
  },
  {
   "cell_type": "code",
   "execution_count": null,
   "metadata": {},
   "outputs": [],
   "source": []
  }
 ],
 "metadata": {
  "kernelspec": {
   "display_name": "Python 3",
   "language": "python",
   "name": "python3"
  },
  "language_info": {
   "codemirror_mode": {
    "name": "ipython",
    "version": 3
   },
   "file_extension": ".py",
   "mimetype": "text/x-python",
   "name": "python",
   "nbconvert_exporter": "python",
   "pygments_lexer": "ipython3",
   "version": "3.8.3"
  }
 },
 "nbformat": 4,
 "nbformat_minor": 4
}
