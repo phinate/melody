{
 "cells": [
  {
   "cell_type": "code",
   "execution_count": 1,
   "metadata": {},
   "outputs": [
    {
     "name": "stderr",
     "output_type": "stream",
     "text": [
      "/Users/phinate/code/melody/venv/lib/python3.9/site-packages/jax/_src/lib/__init__.py:33: UserWarning: JAX on Mac ARM machines is experimental and minimally tested. Please see https://github.com/google/jax/issues/5501 in the event of problems.\n",
      "  warnings.warn(\"JAX on Mac ARM machines is experimental and minimally tested. \"\n"
     ]
    }
   ],
   "source": [
    "from melody import compose\n",
    "from neos.experiments import nn_observable\n",
    "from relaxed.infer import hypotest"
   ]
  },
  {
   "cell_type": "code",
   "execution_count": 2,
   "metadata": {},
   "outputs": [],
   "source": [
    "dgen = nn_observable.generate_data\n",
    "t = nn_observable.nn_summary_stat\n",
    "model = nn_observable.make_model"
   ]
  },
  {
   "cell_type": "code",
   "execution_count": 3,
   "metadata": {},
   "outputs": [],
   "source": [
    "pipeline = compose([dgen, t, model, hypotest], do_jit=True)"
   ]
  },
  {
   "cell_type": "code",
   "execution_count": 4,
   "metadata": {},
   "outputs": [
    {
     "data": {
      "text/plain": [
       "<function melody.compose.<locals>.pipeline(pars, point_data, nn, bandwidth, bins, yields, test_poi: 'float', data: 'Array', model: 'pyhf.Model', lr: 'float', rng=0, num_points=10000, sig_mean=(-1, 1), bup_mean=(2.5, 2), bdown_mean=(-2.5, -1.5), b_mean=(1, -1), reflect=False, sig_scale=2, bkg_scale=10, LUMI=10, return_preds=False, use_kde=True, use_list=False, validate=False, return_mle_pars: 'bool' = False) -> 'tuple[Array, Array] | Array'>"
      ]
     },
     "execution_count": 4,
     "metadata": {},
     "output_type": "execute_result"
    }
   ],
   "source": [
    "pipeline"
   ]
  },
  {
   "cell_type": "code",
   "execution_count": null,
   "metadata": {},
   "outputs": [],
   "source": []
  },
  {
   "cell_type": "markdown",
   "metadata": {},
   "source": []
  }
 ],
 "metadata": {
  "interpreter": {
   "hash": "34e5aad86e3fbd1b3acf61bf99d792b83bce6fc30ba28408b446c6e3b8fe0c6f"
  },
  "kernelspec": {
   "display_name": "Python 3.9.8 64-bit ('venv': venv)",
   "language": "python",
   "name": "python3"
  },
  "language_info": {
   "codemirror_mode": {
    "name": "ipython",
    "version": 3
   },
   "file_extension": ".py",
   "mimetype": "text/x-python",
   "name": "python",
   "nbconvert_exporter": "python",
   "pygments_lexer": "ipython3",
   "version": "3.9.8"
  },
  "orig_nbformat": 4
 },
 "nbformat": 4,
 "nbformat_minor": 2
}
