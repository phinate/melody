{
 "cells": [
  {
   "cell_type": "code",
   "execution_count": 2,
   "metadata": {},
   "outputs": [],
   "source": [
    "import functools\n",
    "import inspect"
   ]
  },
  {
   "cell_type": "code",
   "execution_count": 45,
   "metadata": {},
   "outputs": [],
   "source": [
    "def compose(*workflow):\n",
    "    def dec(loss):\n",
    "        @functools.wraps(loss)\n",
    "        def called(*args,**kwargs): # *args are for grad, **kwargs are the rest\n",
    "            \n",
    "            res = dict([])\n",
    "            \n",
    "            for f in workflow+(loss,):\n",
    "                sig = inspect.signature(f)\n",
    "                f_args = sig.parameters.keys()\n",
    "                \n",
    "                feed_args = False\n",
    "                feed_kwargs = False\n",
    "                \n",
    "                arglist = []\n",
    "                \n",
    "                for arg in f_args:\n",
    "                    if not feed_args or not feed_kwargs:\n",
    "                        if arg in kwargs.keys() and arg not in res.keys():\n",
    "                            feed_kwargs = True\n",
    "                            arglist.append(arg)\n",
    "                        elif arg not in kwargs.keys() and arg not in res.keys():\n",
    "                            feed_args = True\n",
    "                    else:\n",
    "                        break\n",
    "                        \n",
    "                f_kwargs = {k:kwargs[k] for k in arglist}\n",
    "\n",
    "                if feed_args and feed_kwargs:\n",
    "                    res = f(*args, **res, **f_kwargs)\n",
    "                elif feed_args and not feed_kwargs:\n",
    "                    res = f(*args, **res)\n",
    "                elif not feed_args and feed_kwargs:\n",
    "                    res = f(**res, **f_kwargs)\n",
    "                else:\n",
    "                    res = f(**res)\n",
    "                        \n",
    "            return res\n",
    "        \n",
    "        return called\n",
    "    \n",
    "    return dec\n",
    "            \n",
    "  "
   ]
  },
  {
   "cell_type": "code",
   "execution_count": 61,
   "metadata": {},
   "outputs": [
    {
     "data": {
      "text/plain": [
       "DeviceArray(0.25, dtype=float32)"
      ]
     },
     "execution_count": 61,
     "metadata": {},
     "output_type": "execute_result"
    }
   ],
   "source": [
    "\n",
    "def comp(*workflow):\n",
    "    def pipeline(*args,**kwargs): # *args are for grad, **kwargs are the rest\n",
    "\n",
    "        res = dict([])\n",
    "\n",
    "        for f in workflow:\n",
    "            sig = inspect.signature(f)\n",
    "            f_args = sig.parameters.keys()\n",
    "\n",
    "            feed_args = False\n",
    "            feed_kwargs = False\n",
    "\n",
    "            arglist = []\n",
    "\n",
    "            for arg in f_args:\n",
    "                if not feed_args or not feed_kwargs:\n",
    "                    if arg in kwargs.keys() and arg not in res.keys():\n",
    "                        feed_kwargs = True\n",
    "                        arglist.append(arg)\n",
    "                    elif arg not in kwargs.keys() and arg not in res.keys():\n",
    "                        feed_args = True\n",
    "                else:\n",
    "                    break\n",
    "\n",
    "            f_kwargs = {k:kwargs[k] for k in arglist}\n",
    "\n",
    "            if feed_args and feed_kwargs:\n",
    "                res = f(*args, **res, **f_kwargs)\n",
    "            elif feed_args and not feed_kwargs:\n",
    "                res = f(*args, **res)\n",
    "            elif not feed_args and feed_kwargs:\n",
    "                res = f(**res, **f_kwargs)\n",
    "            else:\n",
    "                res = f(**res)\n",
    "\n",
    "        return res\n",
    "\n",
    "    return pipeline\n",
    "            \n",
    "def data_gen(p):\n",
    "    return dict(data = jnp.array([3 * p**2,4]))\n",
    "\n",
    "def preprocess(params, data):\n",
    "    s, b = data\n",
    "    return dict(s = s + params, b = b)\n",
    "    \n",
    "def loss(yeet, s, b):\n",
    "    return s / b - yeet\n",
    "\n",
    "pipeline = compose(data_gen, preprocess, loss)\n",
    "\n",
    "jax.grad(pipeline)(5., params=1, p=3)    # grad wrt 'yeet'\n",
    "jax.grad(pipeline)(3., params=1, yeet=5) # grad wrt 'p'\n",
    "jax.grad(pipeline)(1., p=1, yeet=5)      # grad wrt 'params'"
   ]
  },
  {
   "cell_type": "code",
   "execution_count": 46,
   "metadata": {},
   "outputs": [],
   "source": [
    "import jax\n",
    "import jax.numpy as jnp"
   ]
  },
  {
   "cell_type": "code",
   "execution_count": 50,
   "metadata": {},
   "outputs": [
    {
     "data": {
      "text/plain": [
       "DeviceArray(0.25, dtype=float32)"
      ]
     },
     "execution_count": 50,
     "metadata": {},
     "output_type": "execute_result"
    }
   ],
   "source": [
    "# conditions:\n",
    "# - each func in chain must return dict \n",
    "#   corresponding to some kwargs of next function\n",
    "\n",
    "# - for jax.grad to work, need to have the args\n",
    "#   you want to diff with respect to as the *first*\n",
    "#   arg of the relevant func in the chain\n",
    "#     - the first arg of a @composed function is then that arg\n",
    "#     - everything else must be specified with a keyword\n",
    "\n",
    "def data_gen(p):\n",
    "    return dict(data = jnp.array([3 * p**2,4]))\n",
    "\n",
    "def preprocess(params, data):\n",
    "    s, b = data\n",
    "    return dict(s = s + params, b = b)\n",
    "    \n",
    "@compose(data_gen, preprocess)\n",
    "def loss(yeet, s, b):\n",
    "    return s / b - yeet\n",
    "\n",
    "jax.grad(loss)(5., params=1, p=3)    # grad wrt 'yeet'\n",
    "jax.grad(loss)(3., params=1, yeet=5) # grad wrt 'p'\n",
    "jax.grad(loss)(1., p=1, yeet=5)      # grad wrt 'params'"
   ]
  },
  {
   "cell_type": "code",
   "execution_count": 51,
   "metadata": {},
   "outputs": [],
   "source": [
    "from numpy import random"
   ]
  },
  {
   "cell_type": "markdown",
   "metadata": {},
   "source": [
    "make pipeline object, and do the arg stuff when calling?\n",
    "\n",
    "could use decorator for appending to pipeline?"
   ]
  },
  {
   "cell_type": "code",
   "execution_count": 56,
   "metadata": {},
   "outputs": [],
   "source": [
    "def f(a: int, b: list) -> int:\n",
    "    return a\n",
    "\n",
    "args = dict(a=int, b=list)\n",
    "params = [inspect.Parameter(param,\n",
    "                            inspect.Parameter.POSITIONAL_OR_KEYWORD,\n",
    "                            annotation=type_)\n",
    "                        for param, type_ in args.items()]\n",
    "f.__signature__ = inspect.Signature(params)\n",
    "f.__annotations__ = args"
   ]
  },
  {
   "cell_type": "code",
   "execution_count": 60,
   "metadata": {},
   "outputs": [
    {
     "data": {
      "text/plain": [
       "{'a': int, 'b': list}"
      ]
     },
     "execution_count": 60,
     "metadata": {},
     "output_type": "execute_result"
    }
   ],
   "source": [
    "f.__annotations__"
   ]
  },
  {
   "cell_type": "code",
   "execution_count": 59,
   "metadata": {},
   "outputs": [
    {
     "data": {
      "text/plain": [
       "<Signature (a: int, b: list)>"
      ]
     },
     "execution_count": 59,
     "metadata": {},
     "output_type": "execute_result"
    }
   ],
   "source": [
    "f.__signature__"
   ]
  },
  {
   "cell_type": "code",
   "execution_count": 30,
   "metadata": {},
   "outputs": [
    {
     "name": "stdout",
     "output_type": "stream",
     "text": [
      "Python 3.8.3\r\n"
     ]
    }
   ],
   "source": [
    "!python --version"
   ]
  },
  {
   "cell_type": "code",
   "execution_count": 34,
   "metadata": {},
   "outputs": [
    {
     "data": {
      "text/plain": [
       "(0, 3, 3)"
      ]
     },
     "execution_count": 34,
     "metadata": {},
     "output_type": "execute_result"
    }
   ],
   "source": []
  },
  {
   "cell_type": "code",
   "execution_count": null,
   "metadata": {},
   "outputs": [],
   "source": [
    "arglist = [arg1, arg2, ...]\n",
    "\n",
    "func.__signature__)"
   ]
  }
 ],
 "metadata": {
  "kernelspec": {
   "display_name": "Python 3",
   "language": "python",
   "name": "python3"
  },
  "language_info": {
   "codemirror_mode": {
    "name": "ipython",
    "version": 3
   },
   "file_extension": ".py",
   "mimetype": "text/x-python",
   "name": "python",
   "nbconvert_exporter": "python",
   "pygments_lexer": "ipython3",
   "version": "3.8.3"
  }
 },
 "nbformat": 4,
 "nbformat_minor": 4
}
